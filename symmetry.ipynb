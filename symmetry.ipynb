{
 "cells": [
  {
   "cell_type": "markdown",
   "id": "aa341766",
   "metadata": {},
   "source": [
    "# Tâche 5"
   ]
  },
  {
   "cell_type": "code",
   "execution_count": 132,
   "id": "6ea5437d",
   "metadata": {},
   "outputs": [],
   "source": [
    "import numpy as np\n",
    "from mp_api.client import MPRester\n",
    "from pymatgen.core.operations import SymmOp\n",
    "from pymatgen.symmetry.analyzer import SpacegroupAnalyzer\n",
    "from pymatgen.electronic_structure.plotter import BSPlotter\n",
    "from jupyter_jsmol.pymatgen import quick_view\n",
    "from plotly.subplots import make_subplots\n",
    "import plotly.graph_objects as go"
   ]
  },
  {
   "cell_type": "code",
   "execution_count": 133,
   "id": "f00dced5",
   "metadata": {},
   "outputs": [
    {
     "data": {
      "application/vnd.jupyter.widget-view+json": {
       "model_id": "3950c72eb426477c9941fba57b7d67a5",
       "version_major": 2,
       "version_minor": 0
      },
      "text/plain": [
       "Retrieving MaterialsDoc documents:   0%|          | 0/1 [00:00<?, ?it/s]"
      ]
     },
     "metadata": {},
     "output_type": "display_data"
    }
   ],
   "source": [
    "with MPRester(\"MVjrPtjUJ4K2IdZ4zJmL2QqGBqEUCt6C\") as m:\n",
    "    prim_struc = m.get_structure_by_material_id(\"mp-22660\")\n",
    "conv_struc = SpacegroupAnalyzer(prim_struc).get_conventional_standard_structure()\n",
    "symmops = SpacegroupAnalyzer(conv_struc).get_space_group_operations()\n",
    "sites = conv_struc.sites"
   ]
  },
  {
   "cell_type": "code",
   "execution_count": 136,
   "id": "ddcb60c0",
   "metadata": {
    "scrolled": true
   },
   "outputs": [
    {
     "data": {
      "application/vnd.jupyter.widget-view+json": {
       "model_id": "7eb94398fd664b92ac3f3109da8b2234",
       "version_major": 2,
       "version_minor": 0
      },
      "text/plain": [
       "JsmolView(layout=Layout(align_self='stretch', height='400px'))"
      ]
     },
     "metadata": {},
     "output_type": "display_data"
    }
   ],
   "source": [
    "# Représentation 3D de InAg02\n",
    "view = quick_view(conv_struc)\n",
    "display(view)\n",
    "# red : 02-\n",
    "# grey : Ag+\n",
    "# brown : In3-"
   ]
  },
  {
   "cell_type": "markdown",
   "id": "0f00c177",
   "metadata": {},
   "source": [
    "#### Petit rappel: Les opérations de symétrie s'applique de la manière suivante : (matrice de rotation de l'opération de symétrie) * (coordonnées réduites de l'atome) + (vecteur de translation de l'opération de symétrie)."
   ]
  },
  {
   "cell_type": "markdown",
   "id": "4afc9617",
   "metadata": {},
   "source": [
    "# Première symétrie"
   ]
  },
  {
   "cell_type": "code",
   "execution_count": 137,
   "id": "9972994d",
   "metadata": {},
   "outputs": [
    {
     "name": "stdout",
     "output_type": "stream",
     "text": [
      "Rot:\n",
      "[[-1.  0.  0.]\n",
      " [ 0. -1.  0.]\n",
      " [ 0.  0. -1.]]\n",
      "tau\n",
      "[0. 0. 0.] \n",
      "\n"
     ]
    }
   ],
   "source": [
    "i = 1\n",
    "print(symmops[i],\"\\n\")"
   ]
  },
  {
   "cell_type": "markdown",
   "id": "697e5525",
   "metadata": {},
   "source": [
    "Comme premier élement de symétrie, nous avons une inversion (voir représentation jsmol) qui transforme les coordonnées (x,y,z) en (-x,-y,-z) avec la matrice de rotation : $\\begin{pmatrix}\n",
    "-1 & 0 & 0\\\\\n",
    "0 & -1 & 0\\\\\n",
    "0 & 0 & -1\n",
    "\\end{pmatrix}$ et le vecteur de translation : $\\begin{pmatrix}\n",
    "0 & 0 & 0\n",
    "\\end{pmatrix}$."
   ]
  },
  {
   "cell_type": "code",
   "execution_count": 138,
   "id": "f7ad3362",
   "metadata": {},
   "outputs": [
    {
     "name": "stdout",
     "output_type": "stream",
     "text": [
      "Position initiale: [0.66666667 0.33333333 0.33333333]\n",
      "Position finale après symétrie: [-0.66666667 -0.33333333 -0.33333333]\n"
     ]
    }
   ],
   "source": [
    "l = 4\n",
    "at1 = sites[l]\n",
    "op1 = symmops[i]\n",
    "\n",
    "pos_init1 = at1.frac_coords\n",
    "print(\"Position initiale:\",pos_init1)\n",
    "\n",
    "pos_final1 = op1.operate(pos_init1)\n",
    "print(\"Position finale après symétrie:\",pos_final1)"
   ]
  },
  {
   "cell_type": "markdown",
   "id": "93c47383",
   "metadata": {},
   "source": [
    "Le centre d'inversion de l'opération de symétrie est un atome de Ag+ et l'opération d'inversion est appliquée à un atome In3- qui passe des coordonnées réduites $\\begin{pmatrix}\n",
    "0.66666667 & 0.33333333 & 0.33333333\n",
    "\\end{pmatrix}$\n",
    "aux coordonnées réduites $\\begin{pmatrix}\n",
    "-0.66666667 & -0.33333333 & -0.33333333\n",
    "\\end{pmatrix}$."
   ]
  },
  {
   "cell_type": "code",
   "execution_count": 139,
   "id": "f8402110",
   "metadata": {},
   "outputs": [
    {
     "data": {
      "application/vnd.jupyter.widget-view+json": {
       "model_id": "1048b022724743749f4027c5ca7f91b9",
       "version_major": 2,
       "version_minor": 0
      },
      "text/plain": [
       "JsmolView(layout=Layout(align_self='stretch', height='400px'))"
      ]
     },
     "metadata": {},
     "output_type": "display_data"
    }
   ],
   "source": [
    "# Représentation 3D par jsmol + image pour github\n",
    "view1 = quick_view(conv_struc)\n",
    "display(view1)\n",
    "view1.script('draw SYMOP ' + str(i+1) + ' {atomno = ' + str(4) + '}')"
   ]
  },
  {
   "cell_type": "markdown",
   "id": "3525dd92",
   "metadata": {},
   "source": [
    "![Symétrie d'inversion](Image/Inversion.png)"
   ]
  },
  {
   "cell_type": "markdown",
   "id": "4a09f5bc",
   "metadata": {},
   "source": [
    "# Deuxième symétrie"
   ]
  },
  {
   "cell_type": "code",
   "execution_count": 140,
   "id": "8824614e",
   "metadata": {},
   "outputs": [
    {
     "name": "stdout",
     "output_type": "stream",
     "text": [
      "Rot:\n",
      "[[ 0.  1.  0.]\n",
      " [ 1.  0.  0.]\n",
      " [ 0.  0. -1.]]\n",
      "tau\n",
      "[0. 0. 0.] \n",
      "\n"
     ]
    }
   ],
   "source": [
    "j = 6\n",
    "print(symmops[j],\"\\n\")"
   ]
  },
  {
   "cell_type": "markdown",
   "id": "7b1babf1",
   "metadata": {},
   "source": [
    "Comme deuxième élement de symétrie, nous avons une réflexion avec un plan miroir $\\begin{pmatrix}\n",
    "1 & \\bar{1} & 0\n",
    "\\end{pmatrix}\n",
    "$ qui transforme les coordonnées (x,y,z) en (y,x,-z) avec la matrice de rotation : $\\begin{pmatrix}\n",
    "0 & 1 & 0\\\\\n",
    "1 & 0 & 0\\\\\n",
    "0 & 0 & -1\n",
    "\\end{pmatrix}$ et le vecteur de translation : $\\begin{pmatrix}\n",
    "0 & 0 & 0\n",
    "\\end{pmatrix}$."
   ]
  },
  {
   "cell_type": "code",
   "execution_count": 141,
   "id": "1664076b",
   "metadata": {},
   "outputs": [
    {
     "name": "stdout",
     "output_type": "stream",
     "text": [
      "Position initiale: [0.66666667 0.33333333 0.22351079]\n",
      "Position finale après symétrie: [ 0.33333333  0.66666667 -0.22351079]\n"
     ]
    }
   ],
   "source": [
    "m = 6\n",
    "at2 = sites[m]\n",
    "op2 = symmops[j]\n",
    "\n",
    "pos_init2 = at2.frac_coords\n",
    "print(\"Position initiale:\",pos_init2)\n",
    " \n",
    "pos_final2 = op2.operate(pos_init2)\n",
    "print(\"Position finale après symétrie:\",pos_final2)"
   ]
  },
  {
   "cell_type": "markdown",
   "id": "76fe5564",
   "metadata": {},
   "source": [
    "L'opération de symétrie de plan miroir est appliquée à un atome Ag+ qui passe des coordonnées réduites $\\begin{pmatrix}\n",
    "0.66666667 & 0.33333333 & 0.22351079\n",
    "\\end{pmatrix}$\n",
    "aux coordonnées réduites $\\begin{pmatrix}\n",
    "0.33333333 & 0.66666667 & -0.22351079\n",
    "\\end{pmatrix}$."
   ]
  },
  {
   "cell_type": "code",
   "execution_count": 143,
   "id": "a0f638b9",
   "metadata": {},
   "outputs": [
    {
     "data": {
      "application/vnd.jupyter.widget-view+json": {
       "model_id": "977ebd48720c49919fb89dd0ae979c35",
       "version_major": 2,
       "version_minor": 0
      },
      "text/plain": [
       "JsmolView(layout=Layout(align_self='stretch', height='400px'))"
      ]
     },
     "metadata": {},
     "output_type": "display_data"
    }
   ],
   "source": [
    "# Représentation 3D par jsmol + image pour github\n",
    "view2 = quick_view(conv_struc)\n",
    "display(view2)\n",
    "view2.script('draw SYMOP ' + str(j + 1) + ' {atomno = ' + str(m + 1) + '}')"
   ]
  },
  {
   "cell_type": "markdown",
   "id": "a69205c0",
   "metadata": {},
   "source": [
    "![Symétrie de réflexion](Image/Réflexion.png)"
   ]
  },
  {
   "cell_type": "markdown",
   "id": "3c916b16",
   "metadata": {},
   "source": [
    "# Troisième symétrie"
   ]
  },
  {
   "cell_type": "code",
   "execution_count": 144,
   "id": "dffd0c93",
   "metadata": {},
   "outputs": [
    {
     "name": "stdout",
     "output_type": "stream",
     "text": [
      "Rot:\n",
      "[[1. 0. 0.]\n",
      " [0. 1. 0.]\n",
      " [0. 0. 1.]]\n",
      "tau\n",
      "[0.33333333 0.66666667 0.66666667] \n",
      "\n"
     ]
    }
   ],
   "source": [
    "k = 24\n",
    "print(symmops[k],\"\\n\")"
   ]
  },
  {
   "cell_type": "markdown",
   "id": "e88cd1fe",
   "metadata": {},
   "source": [
    "Comme troisième élement de symétrie, nous avons une translation simple qui transforme les coordonnées (x,y,z) en (x+0.33333333,y+0.66666667,z+0.66666667) avec la matrice de rotation : $\\begin{pmatrix}\n",
    "1 & 0 & 0\\\\\n",
    "0 & 1 & 0\\\\\n",
    "0 & 0 & 1\n",
    "\\end{pmatrix}$ qui est la matrice unité et le vecteur de translation : $\\begin{pmatrix}\n",
    "0.33333333 & 0.66666667 & 0.66666667\n",
    "\\end{pmatrix}$."
   ]
  },
  {
   "cell_type": "code",
   "execution_count": 145,
   "id": "d7818b14",
   "metadata": {},
   "outputs": [
    {
     "name": "stdout",
     "output_type": "stream",
     "text": [
      "Position initiale: [0.         0.         0.10982254]\n",
      "Position finale après symétrie: [0.33333333 0.66666667 0.77648921]\n"
     ]
    }
   ],
   "source": [
    "n = 7\n",
    "at3 = sites[n]\n",
    "op3 = symmops[k]\n",
    "\n",
    "pos_init3 = at3.frac_coords\n",
    "print(\"Position initiale:\",pos_init3)\n",
    " \n",
    "pos_final3 = op3.operate(pos_init3)\n",
    "print(\"Position finale après symétrie:\",pos_final3)"
   ]
  },
  {
   "cell_type": "markdown",
   "id": "bb49aa5b",
   "metadata": {},
   "source": [
    "L'opération de symétrie de translation simple est appliquée à un atome O2- qui passe des coordonnées réduites $\\begin{pmatrix}\n",
    "0. & 0. & 0.10982254\n",
    "\\end{pmatrix}$\n",
    "aux coordonnées réduites $\\begin{pmatrix}\n",
    "0.33333333 & 0.66666667 & 0.77648921\n",
    "\\end{pmatrix}$."
   ]
  },
  {
   "cell_type": "code",
   "execution_count": 146,
   "id": "53d5323c",
   "metadata": {},
   "outputs": [
    {
     "data": {
      "application/vnd.jupyter.widget-view+json": {
       "model_id": "771bbbe2d6ed4e988cbe9bb855f54a96",
       "version_major": 2,
       "version_minor": 0
      },
      "text/plain": [
       "JsmolView(layout=Layout(align_self='stretch', height='400px'))"
      ]
     },
     "metadata": {},
     "output_type": "display_data"
    }
   ],
   "source": [
    "# Représentation 3D par jsmol + image pour github\n",
    "view3 = quick_view(conv_struc)\n",
    "display(view3)\n",
    "view3.script('draw SYMOP ' + str(k + 1) + ' {atomno = ' + str(n + 1) + '}')"
   ]
  },
  {
   "cell_type": "markdown",
   "id": "b6ddfdba",
   "metadata": {},
   "source": [
    "![Symétrie de translation](Image/Translation.png)"
   ]
  },
  {
   "cell_type": "code",
   "execution_count": null,
   "id": "82447a1e",
   "metadata": {},
   "outputs": [],
   "source": []
  }
 ],
 "metadata": {
  "kernelspec": {
   "display_name": "Python 3 (ipykernel)",
   "language": "python",
   "name": "python3"
  },
  "language_info": {
   "codemirror_mode": {
    "name": "ipython",
    "version": 3
   },
   "file_extension": ".py",
   "mimetype": "text/x-python",
   "name": "python",
   "nbconvert_exporter": "python",
   "pygments_lexer": "ipython3",
   "version": "3.9.13"
  }
 },
 "nbformat": 4,
 "nbformat_minor": 5
}
