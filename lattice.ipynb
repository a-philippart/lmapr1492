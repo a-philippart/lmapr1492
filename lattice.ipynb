{
 "cells": [
  {
   "cell_type": "markdown",
   "id": "118247f9",
   "metadata": {},
   "source": [
    "# Tâche 4"
   ]
  },
  {
   "cell_type": "code",
   "execution_count": 1,
   "id": "16a7989f",
   "metadata": {},
   "outputs": [],
   "source": [
    "#import\n",
    "import numpy as np\n",
    "from mp_api.client import MPRester\n",
    "from pymatgen.symmetry.analyzer import SpacegroupAnalyzer\n",
    "from pymatgen.core.structure import Structure"
   ]
  },
  {
   "cell_type": "code",
   "execution_count": 5,
   "id": "ee96f30b",
   "metadata": {},
   "outputs": [],
   "source": [
    "mp_key = \"MVjrPtjUJ4K2IdZ4zJmL2QqGBqEUCt6C\"\n",
    "mp_id = \"mp-22660\""
   ]
  },
  {
   "cell_type": "code",
   "execution_count": 6,
   "id": "d26cdaa4",
   "metadata": {
    "scrolled": true
   },
   "outputs": [
    {
     "data": {
      "application/vnd.jupyter.widget-view+json": {
       "model_id": "68538f4cf62b4cb4bafc5312b76cef3c",
       "version_major": 2,
       "version_minor": 0
      },
      "text/plain": [
       "Retrieving MaterialsDoc documents:   0%|          | 0/1 [00:00<?, ?it/s]"
      ]
     },
     "metadata": {},
     "output_type": "display_data"
    }
   ],
   "source": [
    "#Récupération de la structure\n",
    "with MPRester(mp_key) as m:\n",
    "    structure = m.get_structure_by_material_id(mp_id)"
   ]
  },
  {
   "cell_type": "markdown",
   "id": "015c886d",
   "metadata": {},
   "source": [
    "## Vecteur de base de la maille primitive"
   ]
  },
  {
   "cell_type": "code",
   "execution_count": 7,
   "id": "974466d4",
   "metadata": {},
   "outputs": [
    {
     "name": "stdout",
     "output_type": "stream",
     "text": [
      "Vecteurs de base du réseau direct de la maille primitive :\n",
      "\n",
      "a = [3.18561893e+00 4.57610000e-04 5.77773391e+00]\n",
      "b = [1.4876229  2.81693925 5.77773391]\n",
      "c = [7.6261000e-04 4.5761000e-04 6.5977545e+00]\n",
      "\n",
      "On peut calculer leurs normes :\n",
      "\n",
      "a = 6.597755475261655 Å\n",
      "b = 6.597755509683491 Å\n",
      "c = 6.5977545599431915 Å\n",
      "\n",
      "Angles entre les vecteurs :\n",
      "\n",
      "alpha = 28.864036423089683°\n",
      "bêta = 28.864019361354355°\n",
      "gamma = 28.86403877807073°\n",
      "\n",
      "Les valeurs obtenues sont les mêmes que sur Material Project.\n",
      "-------------------------------------------------\n",
      "\n",
      "Vecteurs de base du réseau réciproque de la maille primitive :\n",
      "\n",
      "a* = [ 1.97279152e+00 -1.04150976e+00 -1.55790165e-04]\n",
      "b* = [-3.98372739e-05  2.23083921e+00 -1.54722936e-04]\n",
      "c* = [-1.72756266 -1.04151027  0.9525937 ]\n",
      "\n",
      "On peut calculer leurs normes :\n",
      "\n",
      "a* = 2.2308404278832277 Å\n",
      "b* = 2.2308392110663333 Å\n",
      "c* = 2.2308409037189634 Å\n",
      "\n",
      "Angles entre les vecteurs :\n",
      "\n",
      "alpha* = 117.83226479883558°\n",
      "bêta* = 117.83232342667347°\n",
      "gamma* = 117.83225670659978°\n",
      "\n"
     ]
    }
   ],
   "source": [
    "#Déterminations des vecteurs du réseau direct de la maille primitive\n",
    "\n",
    "vecteur = structure.lattice\n",
    "abc = vecteur.matrix\n",
    "print(\"Vecteurs de base du réseau direct de la maille primitive :\\n\")\n",
    "print(\"a = {}\\nb = {}\\nc = {}\\n\".format(abc[0], abc[1], abc[2]))\n",
    "print(\"On peut calculer leurs normes :\\n\")\n",
    "normes = vecteur.abc\n",
    "print(\"a = {} Å\\nb = {} Å\\nc = {} Å\\n\".format(normes[0], normes[1], normes[2]))\n",
    "print(\"Angles entre les vecteurs :\\n\")\n",
    "angles = vecteur.angles\n",
    "print(\"alpha = {}°\\nbêta = {}°\\ngamma = {}°\\n\".format(angles[0], angles[1], angles[2]))\n",
    "print(\"Les valeurs obtenues sont les mêmes que sur Material Project.\")\n",
    "\n",
    "print(\"-------------------------------------------------\\n\")\n",
    "\n",
    "#Détermination des vecteurs du réseau réciproque de la maille primitive\n",
    "\n",
    "vecteur_reci = structure.lattice.reciprocal_lattice\n",
    "abc_reci = vecteur_reci.matrix\n",
    "print(\"Vecteurs de base du réseau réciproque de la maille primitive :\\n\")\n",
    "print(\"a* = {}\\nb* = {}\\nc* = {}\\n\".format(abc_reci[0], abc_reci[1], abc_reci[2]))\n",
    "print(\"On peut calculer leurs normes :\\n\")\n",
    "normes_star = vecteur_reci.abc\n",
    "print(\"a* = {} Å\\nb* = {} Å\\nc* = {} Å\\n\".format(normes_star[0], normes_star[1], normes_star[2]))\n",
    "print(\"Angles entre les vecteurs :\\n\")\n",
    "angles_star = vecteur_reci.angles\n",
    "print(\"alpha* = {}°\\nbêta* = {}°\\ngamma* = {}°\\n\".format(angles_star[0], angles_star[1], angles_star[2]))"
   ]
  },
  {
   "cell_type": "markdown",
   "id": "3df218ea",
   "metadata": {},
   "source": [
    "## Vecteur de base de la maille conventionnelle"
   ]
  },
  {
   "cell_type": "code",
   "execution_count": 8,
   "id": "c430e1ae",
   "metadata": {},
   "outputs": [],
   "source": [
    "struct = SpacegroupAnalyzer(structure)\n",
    "struct_conventionnal = struct.get_conventional_standard_structure()"
   ]
  },
  {
   "cell_type": "code",
   "execution_count": 9,
   "id": "11d37703",
   "metadata": {},
   "outputs": [
    {
     "name": "stdout",
     "output_type": "stream",
     "text": [
      "Vecteurs de base du réseau direct de la maille conventionnelle :\n",
      "\n",
      "a = [ 1.64436597 -2.8481254   0.        ]\n",
      "b = [1.64436597 2.8481254  0.        ]\n",
      "c = [ 0.          0.         18.95589887]\n",
      "\n",
      "On peut calculer leurs normes :\n",
      "\n",
      "a = 3.2887319338015866 Å\n",
      "b = 3.2887319338015866 Å\n",
      "c = 18.9558988686526 Å\n",
      "\n",
      "Angles entre les vecteurs :\n",
      "\n",
      "alpha = 90.0°\n",
      "bêta = 90.0°\n",
      "gamma = 119.99999999999999°\n",
      "\n",
      "Les valeurs obtenues sont les mêmes que sur Material Project.\n",
      "-------------------------------------------------\n",
      "\n",
      "Vecteurs de base du réseau réciproque de la maille conventionnelle :\n",
      "\n",
      "a* = [ 1.91051914 -1.10303874  0.        ]\n",
      "b* = [1.91051914 1.10303874 0.        ]\n",
      "c* = [0.         0.         0.33146333]\n",
      "\n",
      "On peut calculer leurs normes :\n",
      "\n",
      "a* = 2.206077480006185 Å\n",
      "b* = 2.206077480006185 Å\n",
      "c* = 0.3314633271002569 Å\n",
      "\n",
      "Angles entre les vecteurs :\n",
      "\n",
      "alpha* = 90.0°\n",
      "bêta* = 90.0°\n",
      "gamma* = 60.00000000000001°\n",
      "\n"
     ]
    }
   ],
   "source": [
    "#Déterminations des vecteurs du réseau direct de la maille conventionnelle\n",
    "\n",
    "print(\"Vecteurs de base du réseau direct de la maille conventionnelle :\\n\")\n",
    "vecteur_conv = struct_conventionnal.lattice\n",
    "abc_conv = vecteur_conv.matrix\n",
    "print(\"a = {}\\nb = {}\\nc = {}\\n\".format(abc_conv[0], abc_conv[1], abc_conv[2]))\n",
    "#print(vecteur.abc) # pour vérifier -> OK\n",
    "print(\"On peut calculer leurs normes :\\n\")\n",
    "normes_conv = vecteur_conv.abc\n",
    "print(\"a = {} Å\\nb = {} Å\\nc = {} Å\\n\".format(normes_conv[0], normes_conv[1], normes_conv[2]))\n",
    "print(\"Angles entre les vecteurs :\\n\")\n",
    "angles_conv = vecteur_conv.angles\n",
    "print(\"alpha = {}°\\nbêta = {}°\\ngamma = {}°\\n\".format(angles_conv[0], angles_conv[1], angles_conv[2]))\n",
    "print(\"Les valeurs obtenues sont les mêmes que sur Material Project.\")\n",
    "\n",
    "print(\"-------------------------------------------------\\n\")\n",
    "\n",
    "#Détermination des vecteurs du réseau réciproque de la maille conventionnelle\n",
    "\n",
    "vecteur_conv_reci = struct_conventionnal.lattice.reciprocal_lattice\n",
    "abc_conv_reci = vecteur_conv_reci.matrix\n",
    "print(\"Vecteurs de base du réseau réciproque de la maille conventionnelle :\\n\")\n",
    "print(\"a* = {}\\nb* = {}\\nc* = {}\\n\".format(abc_conv_reci[0], abc_conv_reci[1], abc_conv_reci[2]))\n",
    "print(\"On peut calculer leurs normes :\\n\")\n",
    "normes_conv_star = vecteur_conv_reci.abc\n",
    "print(\"a* = {} Å\\nb* = {} Å\\nc* = {} Å\\n\".format(normes_conv_star[0], normes_conv_star[1], normes_conv_star[2]))\n",
    "print(\"Angles entre les vecteurs :\\n\")\n",
    "angles_conv_star = vecteur_conv_reci.angles\n",
    "print(\"alpha* = {}°\\nbêta* = {}°\\ngamma* = {}°\\n\".format(angles_conv_star[0], angles_conv_star[1], angles_conv_star[2]))"
   ]
  },
  {
   "cell_type": "markdown",
   "id": "a080cd2c",
   "metadata": {},
   "source": [
    "## Type de maille"
   ]
  },
  {
   "cell_type": "code",
   "execution_count": 17,
   "id": "14c3b006",
   "metadata": {},
   "outputs": [
    {
     "name": "stdout",
     "output_type": "stream",
     "text": [
      "Type de maille: rhombohedral (R)\n"
     ]
    }
   ],
   "source": [
    "#Type de maille\n",
    "print(\"Type de maille:\", SpacegroupAnalyzer(structure).get_lattice_type()+\" (\"+str(struct_conventionnal.get_space_group_info()[0][0])+\")\")\n",
    "#print(str(struct.get_space_group_symbol()[0])) # même résultat"
   ]
  },
  {
   "cell_type": "markdown",
   "id": "bcfaccc7",
   "metadata": {},
   "source": [
    "## Système cristallin "
   ]
  },
  {
   "cell_type": "code",
   "execution_count": 18,
   "id": "79f2c9c5",
   "metadata": {},
   "outputs": [
    {
     "name": "stdout",
     "output_type": "stream",
     "text": [
      "Système cristallin : trigonal\n"
     ]
    }
   ],
   "source": [
    "print(\"Système cristallin :\", SpacegroupAnalyzer(structure).get_crystal_system())"
   ]
  },
  {
   "cell_type": "markdown",
   "id": "53386792",
   "metadata": {},
   "source": [
    "## Groupe ponctuel "
   ]
  },
  {
   "cell_type": "code",
   "execution_count": 19,
   "id": "eb1e35d4",
   "metadata": {},
   "outputs": [
    {
     "name": "stdout",
     "output_type": "stream",
     "text": [
      "Groupe ponctuel: -3m\n"
     ]
    }
   ],
   "source": [
    "print(\"Groupe ponctuel:\", SpacegroupAnalyzer(structure).get_point_group_symbol())"
   ]
  },
  {
   "cell_type": "code",
   "execution_count": null,
   "id": "c789b1ab",
   "metadata": {},
   "outputs": [],
   "source": []
  }
 ],
 "metadata": {
  "kernelspec": {
   "display_name": "Python 3 (ipykernel)",
   "language": "python",
   "name": "python3"
  },
  "language_info": {
   "codemirror_mode": {
    "name": "ipython",
    "version": 3
   },
   "file_extension": ".py",
   "mimetype": "text/x-python",
   "name": "python",
   "nbconvert_exporter": "python",
   "pygments_lexer": "ipython3",
   "version": "3.9.13"
  }
 },
 "nbformat": 4,
 "nbformat_minor": 5
}
